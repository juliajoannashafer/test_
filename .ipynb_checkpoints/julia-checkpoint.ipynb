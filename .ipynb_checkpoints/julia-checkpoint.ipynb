{
 "cells": [
  {
   "cell_type": "code",
   "execution_count": 2,
   "metadata": {},
   "outputs": [
    {
     "name": "stdout",
     "output_type": "stream",
     "text": [
      "Julia\n"
     ]
    }
   ],
   "source": [
    "print(\"Julia\")"
   ]
  },
  {
   "cell_type": "code",
   "execution_count": 9,
   "metadata": {},
   "outputs": [],
   "source": [
    "name = (\"Patricia\")\n",
    "age = (\"45\")"
   ]
  },
  {
   "cell_type": "code",
   "execution_count": 10,
   "metadata": {},
   "outputs": [
    {
     "name": "stdout",
     "output_type": "stream",
     "text": [
      "Patricia\n",
      "45\n"
     ]
    }
   ],
   "source": [
    "print(name)\n",
    "print(age)"
   ]
  },
  {
   "cell_type": "code",
   "execution_count": 12,
   "metadata": {},
   "outputs": [
    {
     "name": "stdout",
     "output_type": "stream",
     "text": [
      "I met a girl named Patricia, and she was 45 years old \n",
      "Patricia was happy but also grumpy becouse she was so old\n",
      "But being 45 is not that old.\n"
     ]
    }
   ],
   "source": [
    "print(\"I met a girl named \" + name + \", and she was \" + age + \" years old \")\n",
    "print(name + \" was happy but also grumpy becouse she was so old\")\n",
    "print(\"But being \" + age + \" is not that old.\")"
   ]
  },
  {
   "cell_type": "markdown",
   "metadata": {},
   "source": [
    "# Cool games!"
   ]
  },
  {
   "cell_type": "markdown",
   "metadata": {},
   "source": [
    "### Madlibs\n"
   ]
  },
  {
   "cell_type": "code",
   "execution_count": 8,
   "metadata": {},
   "outputs": [
    {
     "name": "stdout",
     "output_type": "stream",
     "text": [
      "naun:pizza\n",
      "adj:fat\n",
      "location:home\n",
      "I like to eat pizza because it makes me feel fat inside, when i do. But if I eat to much, I need to poop at home and that can be quite embarrasing\n"
     ]
    }
   ],
   "source": [
    "verb = input(\"naun:\")\n",
    "ajec = input(\"adj:\")\n",
    "location = input(\"location:\")\n",
    "\n",
    "madlib = f\"I like to eat {verb} because it makes me feel {ajec} inside, when i do. But if I eat to much, \\\n",
    "I need to poop at {location} and that can be quite embarrasing\"\n",
    "print(madlib)"
   ]
  },
  {
   "cell_type": "markdown",
   "metadata": {},
   "source": [
    "### Guess the number!"
   ]
  },
  {
   "cell_type": "code",
   "execution_count": 12,
   "metadata": {},
   "outputs": [],
   "source": [
    "import random"
   ]
  },
  {
   "cell_type": "code",
   "execution_count": 63,
   "metadata": {},
   "outputs": [
    {
     "name": "stdout",
     "output_type": "stream",
     "text": [
      "Guess a number between 1 and 10:4\n",
      "Sorry guess again, number too high\n",
      "Guess a number between 1 and 10:3\n",
      "Sorry guess again, number too high\n",
      "Guess a number between 1 and 10:2\n",
      "Yay! Congrats! You guess the right number! 2 correctly\n"
     ]
    }
   ],
   "source": [
    "def guess(x):\n",
    "    random_number = random.randint(1, x)\n",
    "    guess = 0\n",
    "    while guess != random_number:\n",
    "        guess = int(input(f\"Guess a number between 1 and {x}:\"))\n",
    "        if guess < random_number:\n",
    "             print(\"Sorry guess again, number too low\")\n",
    "        elif guess > random_number:\n",
    "            print(\"Sorry guess again, number too high\")\n",
    "            \n",
    "    print(f\"Yay! Congrats! You guess the right number! {random_number} correctly\")\n",
    "        \n",
    "guess(10)\n",
    "    "
   ]
  },
  {
   "cell_type": "markdown",
   "metadata": {},
   "source": [
    "### Guess the number (User)"
   ]
  },
  {
   "cell_type": "code",
   "execution_count": 60,
   "metadata": {},
   "outputs": [
    {
     "name": "stdout",
     "output_type": "stream",
     "text": [
      "Is 40 too high (H), too low (L), or correct (C)?? l\n",
      "Is 97 too high (H), too low (L), or correct (C)?? h\n",
      "Is 71 too high (H), too low (L), or correct (C)?? h\n",
      "Is 70 too high (H), too low (L), or correct (C)?? c\n",
      "Yay! The computer guessed your number, 70, correctly!\n"
     ]
    }
   ],
   "source": [
    "def computer_guess(x):\n",
    "    low = 1\n",
    "    high = x\n",
    "    feedback = \"\"\n",
    "    while feedback != \"c\":\n",
    "        if low != high:\n",
    "            guess = random.randint(low, high)\n",
    "        else:\n",
    "            guess = low   # could be high as well since high = low\n",
    "        feedback = input(f\"Is {guess} too high (H), too low (L), or correct (C)?? \").lower()\n",
    "        if feedback == \"h\":\n",
    "            high = guess - 1\n",
    "        elif feedback == \"l\":\n",
    "            low = guess +1\n",
    "            \n",
    "    print(f\"Yay! The computer guessed your number, {guess}, correctly!\")\n",
    "    \n",
    "computer_guess(100)\n",
    "            "
   ]
  },
  {
   "cell_type": "code",
   "execution_count": null,
   "metadata": {},
   "outputs": [],
   "source": []
  }
 ],
 "metadata": {
  "kernelspec": {
   "display_name": "Python 3",
   "language": "python",
   "name": "python3"
  },
  "language_info": {
   "codemirror_mode": {
    "name": "ipython",
    "version": 3
   },
   "file_extension": ".py",
   "mimetype": "text/x-python",
   "name": "python",
   "nbconvert_exporter": "python",
   "pygments_lexer": "ipython3",
   "version": "3.7.4"
  }
 },
 "nbformat": 4,
 "nbformat_minor": 2
}
