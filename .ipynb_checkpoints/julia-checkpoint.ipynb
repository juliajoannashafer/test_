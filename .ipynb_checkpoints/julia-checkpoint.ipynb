{
 "cells": [
  {
   "cell_type": "code",
   "execution_count": 2,
   "metadata": {},
   "outputs": [
    {
     "name": "stdout",
     "output_type": "stream",
     "text": [
      "Julia\n"
     ]
    }
   ],
   "source": [
    "print(\"Julia\")"
   ]
  },
  {
   "cell_type": "code",
   "execution_count": 9,
   "metadata": {},
   "outputs": [],
   "source": [
    "name = (\"Patricia\")\n",
    "age = (\"45\")"
   ]
  },
  {
   "cell_type": "code",
   "execution_count": 10,
   "metadata": {},
   "outputs": [
    {
     "name": "stdout",
     "output_type": "stream",
     "text": [
      "Patricia\n",
      "45\n"
     ]
    }
   ],
   "source": [
    "print(name)\n",
    "print(age)"
   ]
  },
  {
   "cell_type": "code",
   "execution_count": 12,
   "metadata": {},
   "outputs": [
    {
     "name": "stdout",
     "output_type": "stream",
     "text": [
      "I met a girl named Patricia, and she was 45 years old \n",
      "Patricia was happy but also grumpy becouse she was so old\n",
      "But being 45 is not that old.\n"
     ]
    }
   ],
   "source": [
    "print(\"I met a girl named \" + name + \", and she was \" + age + \" years old \")\n",
    "print(name + \" was happy but also grumpy becouse she was so old\")\n",
    "print(\"But being \" + age + \" is not that old.\")"
   ]
  },
  {
   "cell_type": "markdown",
   "metadata": {},
   "source": [
    "# Cool games!"
   ]
  },
  {
   "cell_type": "markdown",
   "metadata": {},
   "source": [
    "### Madlibs"
   ]
  },
  {
   "cell_type": "code",
   "execution_count": 3,
   "metadata": {},
   "outputs": [
    {
     "name": "stdout",
     "output_type": "stream",
     "text": [
      "naun:cat\n",
      "adj:fat\n",
      "location:home\n",
      "I like to eat cat becouse it makes me feel fat inside, when i do.But if I eat to much, I need to poop at a home and that can be quite embarrasing\n"
     ]
    }
   ],
   "source": [
    "verb = input(\"naun:\")\n",
    "ajec = input(\"adj:\")\n",
    "location = input(\"location:\")\n",
    "\n",
    "madlib = f\"I like to eat {verb} becouse it makes me feel {ajec} inside, when i do.\\\n",
    "But if I eat to much, I need to poop at a {location} and that can be quite embarrasing\"\n",
    "print(madlib)"
   ]
  },
  {
   "cell_type": "code",
   "execution_count": null,
   "metadata": {},
   "outputs": [],
   "source": []
  }
 ],
 "metadata": {
  "kernelspec": {
   "display_name": "Python 3",
   "language": "python",
   "name": "python3"
  },
  "language_info": {
   "codemirror_mode": {
    "name": "ipython",
    "version": 3
   },
   "file_extension": ".py",
   "mimetype": "text/x-python",
   "name": "python",
   "nbconvert_exporter": "python",
   "pygments_lexer": "ipython3",
   "version": "3.7.4"
  }
 },
 "nbformat": 4,
 "nbformat_minor": 2
}
